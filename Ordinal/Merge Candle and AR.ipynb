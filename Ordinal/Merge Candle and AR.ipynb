{
 "cells": [
  {
   "cell_type": "code",
   "execution_count": 7,
   "metadata": {},
   "outputs": [],
   "source": [
    "import pandas as pd\n",
    "import numpy as np"
   ]
  },
  {
   "cell_type": "markdown",
   "metadata": {},
   "source": [
    "# Lectura de datos"
   ]
  },
  {
   "cell_type": "code",
   "execution_count": 8,
   "metadata": {},
   "outputs": [],
   "source": [
    "# Past patterns information\n",
    "BTC_candle_inputs = np.genfromtxt('../data/ordinal/BTC_candles_p15.csv')\n",
    "ETH_candle_inputs = np.genfromtxt('../data/ordinal/BTC_candles_p15.csv')\n",
    "\n",
    "# Autorregresive information\n",
    "BTC_AR_inputs = np.genfromtxt('../data/ordinal/BTC_ARinputs_p15.csv')\n",
    "ETH_AR_inputs = np.genfromtxt('../data/ordinal/ETH_ARinputs_p15.csv')\n",
    "\n",
    "# Outputs\n",
    "BTC_outputs = np.genfromtxt('../data/ordinal/BTC_ARoutputs_p15.csv')\n",
    "ETH_outputs = np.genfromtxt('../data/ordinal/ETH_ARoutputs_p15.csv')"
   ]
  },
  {
   "cell_type": "code",
   "execution_count": 9,
   "metadata": {},
   "outputs": [
    {
     "data": {
      "text/plain": [
       "(1081, 15)"
      ]
     },
     "execution_count": 9,
     "metadata": {},
     "output_type": "execute_result"
    }
   ],
   "source": [
    "BTC_AR_inputs.shape"
   ]
  },
  {
   "cell_type": "markdown",
   "metadata": {},
   "source": [
    "# Concatenación"
   ]
  },
  {
   "cell_type": "code",
   "execution_count": 10,
   "metadata": {},
   "outputs": [],
   "source": [
    "# Concatenate\n",
    "BTC_complete = np.concatenate((BTC_candle_inputs, BTC_AR_inputs, BTC_outputs.reshape(len(BTC_outputs), 1)), axis=1)\n",
    "ETH_complete = np.concatenate((ETH_candle_inputs, ETH_AR_inputs, ETH_outputs.reshape(len(ETH_outputs), 1)), axis=1)"
   ]
  },
  {
   "cell_type": "code",
   "execution_count": 11,
   "metadata": {},
   "outputs": [],
   "source": [
    "np.savetxt('../data/ordinal/BTC_complete_p15.csv', BTC_complete, fmt='%.1f')\n",
    "np.savetxt('../data/ordinal/ETH_complete_p15.csv', ETH_complete, fmt='%.1f')\n",
    "\n",
    "np.savetxt('../data/ordinal/BTC_complete_p15_train.csv', BTC_complete[:941-15], fmt='%.1f')\n",
    "np.savetxt('../data/ordinal/BTC_complete_p15_test.csv', BTC_complete[941-15:], fmt='%.1f')\n",
    "\n",
    "np.savetxt('../data/ordinal/ETH_complete_p15_train.csv', ETH_complete[:941-15], fmt='%.1f')\n",
    "np.savetxt('../data/ordinal/ETH_complete_p15_test.csv', ETH_complete[941-15:], fmt='%.1f')"
   ]
  },
  {
   "cell_type": "code",
   "execution_count": null,
   "metadata": {},
   "outputs": [],
   "source": []
  }
 ],
 "metadata": {
  "kernelspec": {
   "display_name": "Python [conda env:cryptocurr] *",
   "language": "python",
   "name": "conda-env-cryptocurr-py"
  },
  "language_info": {
   "codemirror_mode": {
    "name": "ipython",
    "version": 3
   },
   "file_extension": ".py",
   "mimetype": "text/x-python",
   "name": "python",
   "nbconvert_exporter": "python",
   "pygments_lexer": "ipython3",
   "version": "3.7.3"
  }
 },
 "nbformat": 4,
 "nbformat_minor": 2
}
