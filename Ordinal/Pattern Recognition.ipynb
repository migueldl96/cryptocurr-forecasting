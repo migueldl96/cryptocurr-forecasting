{
 "cells": [
  {
   "cell_type": "code",
   "execution_count": 21,
   "metadata": {},
   "outputs": [],
   "source": [
    "import pandas as pd\n",
    "import numpy as np\n",
    "import talib"
   ]
  },
  {
   "cell_type": "markdown",
   "metadata": {},
   "source": [
    "# Data input"
   ]
  },
  {
   "cell_type": "code",
   "execution_count": 2,
   "metadata": {},
   "outputs": [],
   "source": [
    "# Raw data\n",
    "BTC = pd.read_csv('../data/bitcoin.csv', index_col='Date', parse_dates=True)\n",
    "BTC_train = pd.read_csv('../data/bitcoin_train.csv', index_col='Date', parse_dates=True)\n",
    "BTC_test  = pd.read_csv('../data/bitcoin_test.csv', index_col='Date', parse_dates=True)\n",
    "\n",
    "ETH = pd.read_csv('../data/ethereum.csv', index_col='Date', parse_dates=True)\n",
    "ETH_train = pd.read_csv('../data/ethereum_train.csv', index_col='Date', parse_dates=True)\n",
    "ETH_test  = pd.read_csv('../data/ethereum_test.csv', index_col='Date', parse_dates=True)"
   ]
  },
  {
   "cell_type": "code",
   "execution_count": 38,
   "metadata": {},
   "outputs": [
    {
     "data": {
      "text/plain": [
       "array([11855.75976562, 11111.65039062, 11300.11035156, 11192.50976562])"
      ]
     },
     "execution_count": 38,
     "metadata": {},
     "output_type": "execute_result"
    }
   ],
   "source": [
    "BTC.values[591,0:4]"
   ]
  },
  {
   "cell_type": "code",
   "execution_count": 64,
   "metadata": {},
   "outputs": [
    {
     "name": "stdout",
     "output_type": "stream",
     "text": [
      "0\n"
     ]
    }
   ],
   "source": [
    "high_values = BTC['High'].values\n",
    "low_values = BTC['Low'].values\n",
    "open_values = BTC['Open'].values\n",
    "close_values = BTC['Close'].values\n",
    "\n",
    "bullish_patterns = {}\n",
    "bearish_patterns = {}\n",
    "\n",
    "# Bullish patterns\n",
    "bullish_patterns['engulfing'] = talib.CDLENGULFING(open_values, high_values, low_values, close_values)\n",
    "bullish_patterns['doji'] = talib.CDLDOJI(open_values, high_values, low_values, close_values)\n",
    "bullish_patterns['harami'] = talib.CDLHARAMI(open_values, high_values, low_values, close_values)\n",
    "bullish_patterns['piercing'] = talib.CDLPIERCING(open_values, high_values, low_values, close_values)\n",
    "bullish_patterns['hammer'] = talib.CDLHAMMER(open_values, high_values, low_values, close_values)\n",
    "\n",
    "# Kicking\n",
    "kicking = talib.CDLKICKING(open_values, high_values, low_values, close_values)\n",
    "\n",
    "# Bearish patterns\n",
    "bullish_patterns['engulfing'] = talib.CDLENGULFING(open_values, high_values, low_values, close_values)\n",
    "bullish_patterns['doji'] = talib.CDLDOJI(open_values, high_values, low_values, close_values)\n",
    "bullish_patterns['harami'] = talib.CDLHARAMI(open_values, high_values, low_values, close_values)\n",
    "bullish_patterns['piercing'] = talib.CDLPIERCING(open_values, high_values, low_values, close_values)\n",
    "bullish_patterns['hammer'] = talib.CDLHAMMER(open_values, high_values, low_values, close_values)\n",
    "\n",
    "print(sum(kicking))"
   ]
  },
  {
   "cell_type": "code",
   "execution_count": null,
   "metadata": {},
   "outputs": [],
   "source": []
  }
 ],
 "metadata": {
  "kernelspec": {
   "display_name": "Python [conda env:cryptocurr] *",
   "language": "python",
   "name": "conda-env-cryptocurr-py"
  },
  "language_info": {
   "codemirror_mode": {
    "name": "ipython",
    "version": 3
   },
   "file_extension": ".py",
   "mimetype": "text/x-python",
   "name": "python",
   "nbconvert_exporter": "python",
   "pygments_lexer": "ipython3",
   "version": "3.7.3"
  }
 },
 "nbformat": 4,
 "nbformat_minor": 2
}
