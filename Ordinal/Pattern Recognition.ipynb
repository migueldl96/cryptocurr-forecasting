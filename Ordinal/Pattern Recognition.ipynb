{
 "cells": [
  {
   "cell_type": "code",
   "execution_count": 159,
   "metadata": {},
   "outputs": [],
   "source": [
    "import pandas as pd\n",
    "import numpy as np\n",
    "import talib"
   ]
  },
  {
   "cell_type": "markdown",
   "metadata": {},
   "source": [
    "# Data input"
   ]
  },
  {
   "cell_type": "code",
   "execution_count": 160,
   "metadata": {},
   "outputs": [],
   "source": [
    "# Raw data\n",
    "BTC = pd.read_csv('../data/bitcoin.csv', index_col='Date', parse_dates=True)\n",
    "BTC_train = pd.read_csv('../data/bitcoin_train.csv', index_col='Date', parse_dates=True)\n",
    "BTC_test  = pd.read_csv('../data/bitcoin_test.csv', index_col='Date', parse_dates=True)\n",
    "\n",
    "ETH = pd.read_csv('../data/ethereum.csv', index_col='Date', parse_dates=True)\n",
    "ETH_train = pd.read_csv('../data/ethereum_train.csv', index_col='Date', parse_dates=True)\n",
    "ETH_test  = pd.read_csv('../data/ethereum_test.csv', index_col='Date', parse_dates=True)"
   ]
  },
  {
   "cell_type": "markdown",
   "metadata": {},
   "source": [
    "# Reconocimiento de patrones"
   ]
  },
  {
   "cell_type": "markdown",
   "metadata": {},
   "source": [
    "La influencia de los patrones de velas en el comportamiento de la bolsa no tiene una dependencia temporal, es decir, no importa si el patrón aparece antes o después, tan solo que aparezca.\n",
    "\n",
    "Para cada instante _t_ , acumular el número de patrones en _p_ instantes pasados. Así, dados _P_ patrones diferentes, para cada instante _t_ se crea un array con _P_ elementos en el que _P(i)_ almacena el número de patrones _i_ que se encuentran en esos _p_ instantes pasados."
   ]
  },
  {
   "cell_type": "markdown",
   "metadata": {},
   "source": [
    "## Patrones a utilizar"
   ]
  },
  {
   "cell_type": "markdown",
   "metadata": {},
   "source": [
    "Thomas Bulkowski\n",
    "\n",
    "Patrones alcistas (Bullish patterns):\n",
    "\n",
    "1. Three line strike: 3 velas bajistas previas, con recios de close y low muy cercanos. Precio de salida de cuarta vela incluso menor, pero cierra muy alto.\n",
    "2. Engulfing: Pa\n",
    "3. Hammer: Sombra entre low y open el doble de grande que el cuerpo.\n",
    "4. Shooting Star\n",
    "\n",
    "Patrones de cambio (Reversal patterns):\n",
    "1. Doji\n",
    "2. Harami\n",
    "\n",
    "Patrones bajistas (Bearish patterns):\n",
    "1. Belt Hold:\n",
    "2. Evening start: Vela alcista muy grande, vela bajista con nuevo cierre más alto que la anterior y vela bajista con hueco con la segunda.\n",
    "3. Engulfing"
   ]
  },
  {
   "cell_type": "code",
   "execution_count": 174,
   "metadata": {},
   "outputs": [],
   "source": [
    "def get_candle_serie(crypto):\n",
    "    high_values = crypto['High'].values\n",
    "    low_values = crypto['Low'].values\n",
    "    open_values = crypto['Open'].values\n",
    "    close_values = crypto['Close'].values\n",
    "\n",
    "    bullish_patterns = {}\n",
    "    bearish_patterns = {}\n",
    "    reversal_patterns = {}\n",
    "\n",
    "    # Bullish patterns\n",
    "    bullish_patterns['threelinestrike'] = np.where(talib.CDL3LINESTRIKE(open_values, high_values, low_values, close_values) == -100)[0]\n",
    "    bullish_patterns['engulfing'] = np.where(talib.CDLENGULFING(open_values, high_values, low_values, close_values) == 100)[0]\n",
    "    bullish_patterns['hammer'] = np.where(talib.CDLHAMMER(open_values, high_values, low_values, close_values) == 100)[0]\n",
    "    bullish_patterns['shootingstar'] = np.where(talib.CDLSHOOTINGSTAR(open_values, high_values, low_values, close_values) == 100)[0]\n",
    "\n",
    "    # Reversal\n",
    "    reversal_patterns['doji'] = np.where(talib.CDLDOJI(open_values, high_values, low_values, close_values) == 100)[0]\n",
    "    reversal_patterns['harami'] = talib.CDLHARAMI(open_values, high_values, low_values, close_values)\n",
    "\n",
    "    # Bearish patterns\n",
    "    bearish_patterns['belthold'] = np.where(talib.CDLBELTHOLD(open_values, high_values, low_values, close_values) == 100)[0]\n",
    "    bearish_patterns['eveningstar'] = np.where(talib.CDLEVENINGSTAR(open_values, high_values, low_values, close_values) == -100)[0]\n",
    "    bearish_patterns['engulfing'] = np.where(talib.CDLENGULFING(open_values, high_values, low_values, close_values) == -100)[0]\n",
    "\n",
    "    # Basic candle serie - just bearish and bullish candles are considered\n",
    "    candle_serie = np.zeros(high_values.shape)\n",
    "    candle_serie[open_values > close_values] = 0 # Simple bearish candles\n",
    "    candle_serie[open_values <= close_values] = 1 # Simple bullish candles\n",
    "    \n",
    "    # Specific reversal patterns\n",
    "    candle_serie[reversal_patterns['doji']] = 6\n",
    "    candle_serie[reversal_patterns['harami']] = 7\n",
    "    \n",
    "    # Specific bearish patterns\n",
    "    candle_serie[bearish_patterns['belthold']] = 8\n",
    "    candle_serie[bearish_patterns['engulfing']] = 10\n",
    "    candle_serie[bearish_patterns['eveningstar']] = 9\n",
    "    \n",
    "    # Specific bullish patterns\n",
    "    candle_serie[bullish_patterns['engulfing']] = 3\n",
    "    candle_serie[bullish_patterns['hammer']] = 4\n",
    "    candle_serie[bullish_patterns['shootingstar']] = 5\n",
    "    candle_serie[bullish_patterns['threelinestrike']] = 2\n",
    "\n",
    "    return candle_serie"
   ]
  },
  {
   "cell_type": "code",
   "execution_count": 175,
   "metadata": {},
   "outputs": [],
   "source": [
    "# Calculate candle series for both cryptocurr\n",
    "BTC_candle_serie = get_candle_serie(BTC)\n",
    "ETH_candle_serie = get_candle_serie(ETH)"
   ]
  },
  {
   "cell_type": "markdown",
   "metadata": {},
   "source": [
    "## Matriz de entradas"
   ]
  },
  {
   "cell_type": "code",
   "execution_count": 176,
   "metadata": {},
   "outputs": [],
   "source": [
    "def get_input_cndl_pttrn(serie, p):\n",
    "    \n",
    "    # Cast serie to int\n",
    "    int_serie = serie.astype('int')\n",
    "    \n",
    "    # Number of patterns considered\n",
    "    n_cndl_pttrn = 11\n",
    "    \n",
    "    # Window\n",
    "    begin = 0\n",
    "    end = p\n",
    "    \n",
    "    inputs = np.zeros((len(int_serie)-p, n_cndl_pttrn))\n",
    "    i=0\n",
    "    \n",
    "    \n",
    "    while end < len(int_serie):\n",
    "        for value in int_serie[begin:end]:\n",
    "            inputs[i, value] += 1\n",
    "        \n",
    "        i += 1\n",
    "        begin +=1\n",
    "        end += 1\n",
    "        \n",
    "    return inputs\n",
    "            "
   ]
  },
  {
   "cell_type": "code",
   "execution_count": 177,
   "metadata": {},
   "outputs": [],
   "source": [
    "p=15\n",
    "\n",
    "BTC_candle_inputs = get_input_cndl_pttrn(BTC_candle_serie, p)\n",
    "ETH_candle_inputs = get_input_cndl_pttrn(ETH_candle_serie, p)"
   ]
  },
  {
   "cell_type": "markdown",
   "metadata": {},
   "source": [
    "## Guardar matrices"
   ]
  },
  {
   "cell_type": "code",
   "execution_count": 199,
   "metadata": {},
   "outputs": [],
   "source": [
    "# BTC\n",
    "np.savetxt('../data/ordinal/BTC_candles_p15.csv', BTC_candle_inputs, fmt='%i')\n",
    "\n",
    "# ETH\n",
    "np.savetxt('../data/ordinal/ETH_candles_p15.csv', ETH_candle_inputs, fmt='%i')"
   ]
  },
  {
   "cell_type": "code",
   "execution_count": null,
   "metadata": {},
   "outputs": [],
   "source": []
  }
 ],
 "metadata": {
  "kernelspec": {
   "display_name": "Python [conda env:cryptocurr] *",
   "language": "python",
   "name": "conda-env-cryptocurr-py"
  },
  "language_info": {
   "codemirror_mode": {
    "name": "ipython",
    "version": 3
   },
   "file_extension": ".py",
   "mimetype": "text/x-python",
   "name": "python",
   "nbconvert_exporter": "python",
   "pygments_lexer": "ipython3",
   "version": "3.7.3"
  }
 },
 "nbformat": 4,
 "nbformat_minor": 2
}
